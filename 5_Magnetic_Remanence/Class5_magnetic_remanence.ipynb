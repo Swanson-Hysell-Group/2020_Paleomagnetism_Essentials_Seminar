{
 "cells": [
  {
   "cell_type": "code",
   "execution_count": 16,
   "metadata": {},
   "outputs": [],
   "source": [
    "import pmagpy.pmag as pmag\n",
    "import pmagpy.ipmag as ipmag\n",
    "import numpy as np\n",
    "import matplotlib.pyplot as plt\n",
    "import math"
   ]
  },
  {
   "cell_type": "markdown",
   "metadata": {},
   "source": [
    "We know that \n",
    "$$\\tau = { {1\\over C}} \\exp {  {Kv}\\over {kT} }$$\n",
    "\n",
    "Rearranging and taking the log of both sides, we get\n",
    "$$\n",
    "\\hbox{ln }( \\tau  C )= { {K {4} \\pi r^3}\\over {3kT} }.\n",
    "$$\n",
    "Solving for $r^3$ gives\n",
    "$$\n",
    "r^3 =   {3\\over 4} { {kT}\\over { K\\pi} }ln \\tau C.\n",
    "$$\n",
    "\n",
    "We  set $k= 1.38 \\times 10^{-23}$J/K (Boltzmann's constant), $T=300$K (room temperature),  $C=10^{10}$s, and $K=1.3 \\times 10^4$J/m$^3$ (the anisotropy constant for magnetite). Knowing that $d=2r$, we can write the script: "
   ]
  },
  {
   "cell_type": "code",
   "execution_count": 176,
   "metadata": {},
   "outputs": [
    {
     "name": "stdout",
     "output_type": "stream",
     "text": [
      " tau (s)  d (microns)\n",
      "   1e-01   0.023\n",
      "   1e+01   0.025\n",
      "   1e+02   0.026\n",
      "   1e+03   0.026\n",
      "   1e+05   0.028\n",
      "   1e+09   0.030\n",
      "   1e+15   0.033\n",
      "   1e+24   0.036\n"
     ]
    }
   ],
   "source": [
    "k=1.38e-23 # Boltzmann's constant\n",
    "T=300 # room T\n",
    "C=1e10 # frequency factor\n",
    "K=1.3e4 # anisotropy constant for magnetite\n",
    "taus=[.1,10,1e2,1e3,1e5,1e9,1e15,1e24]\n",
    "print (' tau (s)  d (microns)')\n",
    "for tau in taus:\n",
    "    r3=((3./4.)*(k*T/(K*np.pi)))*np.log(tau*C) # equation relating r^3 to tau above. \n",
    "    r=r3**(1./3.) # take the cube root\n",
    "    print ('%8.0e'%(tau), '  %5.3f'%(2*r*1e6)) # print tau (seconds) and d (in microns)"
   ]
  },
  {
   "cell_type": "code",
   "execution_count": 177,
   "metadata": {},
   "outputs": [],
   "source": [
    "def diameter_given_relaxation_time(tau, T, K, k, C):\n",
    "    r3 = ((3./4.)*(k*T/(K*np.pi)))*np.log(tau*C) # equation relating r^3 to tau above. \n",
    "    r = r3**(1./3.) # take the cube root\n",
    "    return r*2*1E9"
   ]
  },
  {
   "cell_type": "code",
   "execution_count": 178,
   "metadata": {},
   "outputs": [],
   "source": [
    "diameter_list = []\n",
    "\n",
    "for tau in taus:\n",
    "    diameter = diameter_given_relaxation_time(tau, T, K, k, C)\n",
    "    diameter_list.append(diameter)"
   ]
  },
  {
   "cell_type": "code",
   "execution_count": 179,
   "metadata": {},
   "outputs": [
    {
     "data": {
      "text/plain": [
       "[23.27227578834705,\n",
       " 24.882207842751278,\n",
       " 25.614453856444598,\n",
       " 26.30706931947468,\n",
       " 27.592333977272606,\n",
       " 29.854459899613133,\n",
       " 32.714329326338195,\n",
       " 36.24524091336682]"
      ]
     },
     "execution_count": 179,
     "metadata": {},
     "output_type": "execute_result"
    }
   ],
   "source": [
    "diameter_list"
   ]
  },
  {
   "cell_type": "code",
   "execution_count": 183,
   "metadata": {},
   "outputs": [
    {
     "data": {
      "text/plain": [
       "Text(0, 0.5, 'relaxation time (s)')"
      ]
     },
     "execution_count": 183,
     "metadata": {},
     "output_type": "execute_result"
    },
    {
     "data": {
      "image/png": "[encoded data removed]",
      "text/plain": [
       "<Figure size 432x288 with 1 Axes>"
      ]
     },
     "metadata": {
      "needs_background": "light"
     },
     "output_type": "display_data"
    }
   ],
   "source": [
    "plt.scatter(diameter_list,taus)\n",
    "plt.yscale('log')\n",
    "plt.hlines(60*20,20,40,label='20 minutes')\n",
    "plt.hlines(60*60*24*365*1e6,20,40,label='1 million years')\n",
    "plt.hlines(60*60*24*365*1e9,20,40,label='1 billion years')\n",
    "plt\n",
    "plt.xlabel('diameter (nm)')\n",
    "plt.ylabel('relaxation time (s)')"
   ]
  },
  {
   "cell_type": "code",
   "execution_count": null,
   "metadata": {},
   "outputs": [],
   "source": []
  }
 ],
 "metadata": {
  "kernelspec": {
   "display_name": "Python 3",
   "language": "python",
   "name": "python3"
  },
  "language_info": {
   "codemirror_mode": {
    "name": "ipython",
    "version": 3
   },
   "file_extension": ".py",
   "mimetype": "text/x-python",
   "name": "python",
   "nbconvert_exporter": "python",
   "pygments_lexer": "ipython3",
   "version": "3.7.3"
  },
  "toc-autonumbering": false
 },
 "nbformat": 4,
 "nbformat_minor": 4
}
