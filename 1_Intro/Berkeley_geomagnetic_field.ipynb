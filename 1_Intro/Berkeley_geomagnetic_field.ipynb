{
 "cells": [
  {
   "cell_type": "markdown",
   "metadata": {},
   "source": [
    "# First use of PmagPy"
   ]
  },
  {
   "cell_type": "markdown",
   "metadata": {},
   "source": [
    "## Import the pmagpy packages"
   ]
  },
  {
   "cell_type": "code",
   "execution_count": 23,
   "metadata": {},
   "outputs": [],
   "source": [
    "import pmagpy.ipmag as ipmag\n",
    "import pmagpy.pmag as pmag\n",
    "import matplotlib.pyplot as plt"
   ]
  },
  {
   "cell_type": "markdown",
   "metadata": {},
   "source": [
    "## Check out the `ipmag.igrf` function docstring"
   ]
  },
  {
   "cell_type": "code",
   "execution_count": 2,
   "metadata": {},
   "outputs": [
    {
     "data": {
      "text/plain": [
       "\u001b[0;31mSignature:\u001b[0m \u001b[0mipmag\u001b[0m\u001b[0;34m.\u001b[0m\u001b[0migrf\u001b[0m\u001b[0;34m(\u001b[0m\u001b[0minput_list\u001b[0m\u001b[0;34m,\u001b[0m \u001b[0mmod\u001b[0m\u001b[0;34m=\u001b[0m\u001b[0;34m''\u001b[0m\u001b[0;34m,\u001b[0m \u001b[0mghfile\u001b[0m\u001b[0;34m=\u001b[0m\u001b[0;34m''\u001b[0m\u001b[0;34m)\u001b[0m\u001b[0;34m\u001b[0m\u001b[0;34m\u001b[0m\u001b[0m\n",
       "\u001b[0;31mDocstring:\u001b[0m\n",
       "Determine Declination, Inclination and Intensity from the IGRF model.\n",
       "(http://www.ngdc.noaa.gov/IAGA/vmod/igrf.html)\n",
       "\n",
       "Parameters\n",
       "----------\n",
       "input_list : list with format [Date, Altitude, Latitude, Longitude]\n",
       "    date must be in decimal year format XXXX.XXXX (Common Era)\n",
       "mod :  desired model\n",
       "    \"\" : Use the IGRF\n",
       "    custom : use values supplied in ghfile\n",
       "    or choose from this list\n",
       "    ['arch3k','cals3k','pfm9k','hfm10k','cals10k.2','cals10k.1b']\n",
       "    where:\n",
       "        arch3k (Korte et al., 2009)\n",
       "        cals3k (Korte and Constable, 2011)\n",
       "        cals10k.1b (Korte et al., 2011)\n",
       "        pfm9k  (Nilsson et al., 2014)\n",
       "        hfm10k is the hfm.OL1.A1 of Constable et al. (2016)\n",
       "        cals10k.2 (Constable et al., 2016)\n",
       "        the first four of these models, are constrained to agree\n",
       "        with gufm1 (Jackson et al., 2000) for the past four centuries\n",
       "\n",
       "\n",
       "gh : path to file with l m g h data\n",
       "\n",
       "Returns\n",
       "-------\n",
       "igrf_array : array of IGRF values (0: dec; 1: inc; 2: intensity (in nT))\n",
       "\n",
       "Examples\n",
       "--------\n",
       ">>> local_field = ipmag.igrf([2013.6544, .052, 37.87, -122.27])\n",
       ">>> local_field\n",
       "array([  1.39489916e+01,   6.13532008e+01,   4.87452644e+04])\n",
       ">>> ipmag.igrf_print(local_field)\n",
       "Declination: 13.949\n",
       "Inclination: 61.353\n",
       "Intensity: 48745.264 nT\n",
       "\u001b[0;31mFile:\u001b[0m      ~/0000_Github/PmagPy/pmagpy/ipmag.py\n",
       "\u001b[0;31mType:\u001b[0m      function\n"
      ]
     },
     "metadata": {},
     "output_type": "display_data"
    }
   ],
   "source": [
    "ipmag.igrf?"
   ]
  },
  {
   "cell_type": "markdown",
   "metadata": {},
   "source": []
  },
  {
   "cell_type": "code",
   "execution_count": 3,
   "metadata": {},
   "outputs": [
    {
     "data": {
      "text/plain": [
       "array([1.37988492e+01, 6.13403282e+01, 4.86139947e+04])"
      ]
     },
     "execution_count": 3,
     "metadata": {},
     "output_type": "execute_result"
    }
   ],
   "source": [
    "Berkeley_field = ipmag.igrf([2020, 0, 37.87, -122.27])\n",
    "Berkeley_field"
   ]
  },
  {
   "cell_type": "code",
   "execution_count": 4,
   "metadata": {},
   "outputs": [],
   "source": [
    "Berkeley_dec = Berkeley_field[0]"
   ]
  },
  {
   "cell_type": "code",
   "execution_count": 5,
   "metadata": {},
   "outputs": [],
   "source": [
    "Berkeley_inc = Berkeley_field[1]"
   ]
  },
  {
   "cell_type": "code",
   "execution_count": 6,
   "metadata": {},
   "outputs": [],
   "source": [
    "Berkeley_dec_GAD = 0"
   ]
  },
  {
   "cell_type": "markdown",
   "metadata": {},
   "source": [
    "## The dipole equation\n",
    "\n",
    "tan(inclination) = 2 tan(latitude)\n",
    "\n",
    "inclination = atan(2 tan(latitude))"
   ]
  },
  {
   "cell_type": "code",
   "execution_count": 7,
   "metadata": {},
   "outputs": [
    {
     "data": {
      "text/plain": [
       "57.26009565500149"
      ]
     },
     "execution_count": 7,
     "metadata": {},
     "output_type": "execute_result"
    }
   ],
   "source": [
    "Berkeley_inc_GAD = ipmag.inc_from_lat(37.87)\n",
    "Berkeley_inc_GAD"
   ]
  },
  {
   "cell_type": "code",
   "execution_count": 8,
   "metadata": {},
   "outputs": [
    {
     "data": {
      "text/plain": [
       "\u001b[0;31mSignature:\u001b[0m \u001b[0mpmag\u001b[0m\u001b[0;34m.\u001b[0m\u001b[0mangle\u001b[0m\u001b[0;34m(\u001b[0m\u001b[0mD1\u001b[0m\u001b[0;34m,\u001b[0m \u001b[0mD2\u001b[0m\u001b[0;34m)\u001b[0m\u001b[0;34m\u001b[0m\u001b[0;34m\u001b[0m\u001b[0m\n",
       "\u001b[0;31mDocstring:\u001b[0m\n",
       "Calculate the angle between two directions.\n",
       "\n",
       "Parameters\n",
       "----------\n",
       "D1 : Direction 1 as an array of [declination, inclination] pair or pairs\n",
       "D2 : Direction 2 as an array of [declination, inclination] pair or pairs\n",
       "\n",
       "Returns\n",
       "-------\n",
       "angle : angle between the directions as a single-element array\n",
       "\n",
       "Examples\n",
       "--------\n",
       ">>> pmag.angle([350.0,10.0],[320.0,20.0])\n",
       "array([ 30.59060998])\n",
       "\u001b[0;31mFile:\u001b[0m      ~/0000_Github/PmagPy/pmagpy/pmag.py\n",
       "\u001b[0;31mType:\u001b[0m      function\n"
      ]
     },
     "metadata": {},
     "output_type": "display_data"
    }
   ],
   "source": [
    "pmag.angle?"
   ]
  },
  {
   "cell_type": "code",
   "execution_count": 9,
   "metadata": {},
   "outputs": [
    {
     "data": {
      "text/plain": [
       "array([8.11800087])"
      ]
     },
     "execution_count": 9,
     "metadata": {},
     "output_type": "execute_result"
    }
   ],
   "source": [
    "pmag.angle([Berkeley_dec,Berkeley_inc],[Berkeley_dec_GAD,Berkeley_inc_GAD])"
   ]
  },
  {
   "cell_type": "code",
   "execution_count": 14,
   "metadata": {},
   "outputs": [
    {
     "data": {
      "text/plain": [
       "array([3.94833781e+00, 7.31957468e+01, 5.87656428e+04])"
      ]
     },
     "execution_count": 14,
     "metadata": {},
     "output_type": "execute_result"
    }
   ],
   "source": [
    "Nick_bday_field = ipmag.igrf([1983, 0.253, 44.9778, -93.2650])\n",
    "Nick_bday_field"
   ]
  },
  {
   "cell_type": "code",
   "execution_count": 15,
   "metadata": {},
   "outputs": [
    {
     "data": {
      "text/plain": [
       "3.948337809009842"
      ]
     },
     "execution_count": 15,
     "metadata": {},
     "output_type": "execute_result"
    }
   ],
   "source": [
    "Nick_bday_dec = Nick_bday_field[0]\n",
    "Nick_bday_dec"
   ]
  },
  {
   "cell_type": "code",
   "execution_count": 17,
   "metadata": {},
   "outputs": [
    {
     "data": {
      "text/plain": [
       "73.19574676935736"
      ]
     },
     "execution_count": 17,
     "metadata": {},
     "output_type": "execute_result"
    }
   ],
   "source": [
    "Nick_bday_inc = Nick_bday_field[1]\n",
    "Nick_bday_inc"
   ]
  },
  {
   "cell_type": "code",
   "execution_count": 19,
   "metadata": {},
   "outputs": [
    {
     "data": {
      "text/plain": [
       "63.417184692835235"
      ]
     },
     "execution_count": 19,
     "metadata": {},
     "output_type": "execute_result"
    }
   ],
   "source": [
    "Nick_bday_dec_GAD = 0\n",
    "Nick_bday_inc_GAD = ipmag.inc_from_lat(44.9778)\n",
    "Nick_bday_inc_GAD"
   ]
  },
  {
   "cell_type": "code",
   "execution_count": 21,
   "metadata": {},
   "outputs": [
    {
     "data": {
      "text/plain": [
       "array([9.88160988])"
      ]
     },
     "execution_count": 21,
     "metadata": {},
     "output_type": "execute_result"
    }
   ],
   "source": [
    "pmag.angle([Nick_bday_dec_GAD,Nick_bday_inc_GAD],[Nick_bday_dec,Nick_bday_inc])"
   ]
  },
  {
   "cell_type": "code",
   "execution_count": 20,
   "metadata": {},
   "outputs": [
    {
     "data": {
      "text/plain": [
       "\u001b[0;31mSignature:\u001b[0m\n",
       "\u001b[0mipmag\u001b[0m\u001b[0;34m.\u001b[0m\u001b[0mplot_di\u001b[0m\u001b[0;34m(\u001b[0m\u001b[0;34m\u001b[0m\n",
       "\u001b[0;34m\u001b[0m    \u001b[0mdec\u001b[0m\u001b[0;34m=\u001b[0m\u001b[0;32mNone\u001b[0m\u001b[0;34m,\u001b[0m\u001b[0;34m\u001b[0m\n",
       "\u001b[0;34m\u001b[0m    \u001b[0minc\u001b[0m\u001b[0;34m=\u001b[0m\u001b[0;32mNone\u001b[0m\u001b[0;34m,\u001b[0m\u001b[0;34m\u001b[0m\n",
       "\u001b[0;34m\u001b[0m    \u001b[0mdi_block\u001b[0m\u001b[0;34m=\u001b[0m\u001b[0;32mNone\u001b[0m\u001b[0;34m,\u001b[0m\u001b[0;34m\u001b[0m\n",
       "\u001b[0;34m\u001b[0m    \u001b[0mcolor\u001b[0m\u001b[0;34m=\u001b[0m\u001b[0;34m'k'\u001b[0m\u001b[0;34m,\u001b[0m\u001b[0;34m\u001b[0m\n",
       "\u001b[0;34m\u001b[0m    \u001b[0mmarker\u001b[0m\u001b[0;34m=\u001b[0m\u001b[0;34m'o'\u001b[0m\u001b[0;34m,\u001b[0m\u001b[0;34m\u001b[0m\n",
       "\u001b[0;34m\u001b[0m    \u001b[0mmarkersize\u001b[0m\u001b[0;34m=\u001b[0m\u001b[0;36m20\u001b[0m\u001b[0;34m,\u001b[0m\u001b[0;34m\u001b[0m\n",
       "\u001b[0;34m\u001b[0m    \u001b[0mlegend\u001b[0m\u001b[0;34m=\u001b[0m\u001b[0;34m'no'\u001b[0m\u001b[0;34m,\u001b[0m\u001b[0;34m\u001b[0m\n",
       "\u001b[0;34m\u001b[0m    \u001b[0mlabel\u001b[0m\u001b[0;34m=\u001b[0m\u001b[0;34m''\u001b[0m\u001b[0;34m,\u001b[0m\u001b[0;34m\u001b[0m\n",
       "\u001b[0;34m\u001b[0m    \u001b[0mtitle\u001b[0m\u001b[0;34m=\u001b[0m\u001b[0;34m''\u001b[0m\u001b[0;34m,\u001b[0m\u001b[0;34m\u001b[0m\n",
       "\u001b[0;34m\u001b[0m    \u001b[0medge\u001b[0m\u001b[0;34m=\u001b[0m\u001b[0;34m''\u001b[0m\u001b[0;34m,\u001b[0m\u001b[0;34m\u001b[0m\n",
       "\u001b[0;34m\u001b[0m    \u001b[0malpha\u001b[0m\u001b[0;34m=\u001b[0m\u001b[0;36m1\u001b[0m\u001b[0;34m,\u001b[0m\u001b[0;34m\u001b[0m\n",
       "\u001b[0;34m\u001b[0m\u001b[0;34m)\u001b[0m\u001b[0;34m\u001b[0m\u001b[0;34m\u001b[0m\u001b[0m\n",
       "\u001b[0;31mDocstring:\u001b[0m\n",
       "Plot declination, inclination data on an equal area plot.\n",
       "\n",
       "Before this function is called a plot needs to be initialized with code that looks\n",
       "something like:\n",
       ">fignum = 1\n",
       ">plt.figure(num=fignum,figsize=(10,10),dpi=160)\n",
       ">ipmag.plot_net(fignum)\n",
       "\n",
       "Required Parameters\n",
       "-----------\n",
       "dec : declination being plotted\n",
       "inc : inclination being plotted\n",
       "\n",
       "or\n",
       "\n",
       "di_block: a nested list of [dec,inc,1.0]\n",
       "(di_block can be provided instead of dec, inc in which case it will be used)\n",
       "\n",
       "Optional Parameters (defaults are used if not specified)\n",
       "-----------\n",
       "color : the default color is black. Other colors can be chosen (e.g. 'r')\n",
       "marker : the default marker is a circle ('o')\n",
       "markersize : default size is 20\n",
       "label : the default label is blank ('')\n",
       "legend : the default is no legend ('no'). Putting 'yes' will plot a legend.\n",
       "edge : marker edge color - if blank, is color of marker\n",
       "alpha : opacity\n",
       "\u001b[0;31mFile:\u001b[0m      ~/0000_Github/PmagPy/pmagpy/ipmag.py\n",
       "\u001b[0;31mType:\u001b[0m      function\n"
      ]
     },
     "metadata": {},
     "output_type": "display_data"
    }
   ],
   "source": [
    "ipmag.plot_di?"
   ]
  },
  {
   "cell_type": "code",
   "execution_count": 45,
   "metadata": {},
   "outputs": [
    {
     "data": {
      "image/png": "[encoded data removed]",
      "text/plain": [
       "<Figure size 432x432 with 1 Axes>"
      ]
     },
     "metadata": {
      "needs_background": "light"
     },
     "output_type": "display_data"
    }
   ],
   "source": [
    "plt.figure(figsize=(6,6))\n",
    "ipmag.plot_net()\n",
    "ipmag.plot_di(dec=Berkeley_dec,inc=Berkeley_inc,color='green',\n",
    "              markersize=60,label='Berkeley magnetic field (actual)')\n",
    "ipmag.plot_di(dec=Berkeley_dec_GAD,inc=Berkeley_inc_GAD,color='red',\n",
    "              markersize=60,label='Berkeley magnetic field (GAD predicted)')\n",
    "plt.legend()\n",
    "plt.savefig('Berkeley_field_direction.pdf')\n",
    "plt.savefig('Berkeley_field_direction.png')\n",
    "plt.show()"
   ]
  },
  {
   "cell_type": "code",
   "execution_count": 28,
   "metadata": {},
   "outputs": [
    {
     "data": {
      "image/png": "[encoded data removed]",
      "text/plain": [
       "<Figure size 432x288 with 1 Axes>"
      ]
     },
     "metadata": {
      "needs_background": "light"
     },
     "output_type": "display_data"
    }
   ],
   "source": []
  },
  {
   "cell_type": "code",
   "execution_count": null,
   "metadata": {},
   "outputs": [],
   "source": []
  }
 ],
 "metadata": {
  "kernelspec": {
   "display_name": "Python 3",
   "language": "python",
   "name": "python3"
  },
  "language_info": {
   "codemirror_mode": {
    "name": "ipython",
    "version": 3
   },
   "file_extension": ".py",
   "mimetype": "text/x-python",
   "name": "python",
   "nbconvert_exporter": "python",
   "pygments_lexer": "ipython3",
   "version": "3.6.7"
  }
 },
 "nbformat": 4,
 "nbformat_minor": 4
}
