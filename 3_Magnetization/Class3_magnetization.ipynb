{
 "cells": [
  {
   "cell_type": "markdown",
   "metadata": {},
   "source": [
    "## Induced magnetization\n",
    "\n",
    "There are two sources of magnetic moments in electronic motions: the orbits and the (unpaired) spins. These moments respond to external magnetic fields giving rise to an induced magnetization.\n",
    "\n",
    "### Diamagnetism\n",
    "\n",
    "The angular momentum of electrons is quantized in magnitude but also has direction (see L in Figure 3.4). The angular momentum vector has an associated magnetic moment vector mb. A magnetic field H exerts a torque on the moment, which nudges it (and the momentum vector associated with it) to the side (ΔL). L therefore will precess around the magnetic field direction, much like a spinning top precesses around the direction of gravity. The precession of L is called Larmor precession.\n",
    "\n",
    "The changed momentum vector from Larmor precession in turn results in a changed magnetic moment vector Δm. The sense of the change in net moment is always to oppose the applied field. Therefore, the response of the magnetic moments of electronic orbitals creates an induced magnetization MI that is observable outside the substance; it is related to the applied field by:\n",
    "\n",
    "$$\n",
    "M_I=\\chi_d H\n",
    "$$\n",
    "\n",
    "The proportionality between induced magnetization and the applied field is known as the magnetic susceptibility. The ratio MI∕H for the response of the electronic orbitals is termed the diamagnetic susceptibility χd; it is negative, essentially temperature independent and quite small. This diamagnetic response is a property of all matter, but for substances whose atoms possess atomic magnetic moments, diamagnetism is swamped by effects of magnetic fields on the atomic magnetic moments. In the absence of unpaired electronic spins, diamagnetic susceptibility dominates the magnetic response. Common diamagnetic substances include quartz (SiO2), calcite (CaCO3) and water (H2O).\n",
    "\n",
    "### Paramagnetism\n",
    "**Paramagnetism is strong, it is positive and it has a strong dependence on temperature**\n",
    "\n",
    "In many geological materials, the orbital contributions cancel out because they are randomly oriented with respect to one another and the magnetization arises from the electronic spins. We mentioned that unpaired electronic spins behave as magnetic dipoles with a moment of one Bohr magneton. In the absence of an applied field, or in the absence of the ordering influence of neighboring spins which are known as exchange interactions, the electronic spins are essentially randomly oriented. An applied field acts to align the spins which creates a net magnetization equal to χpH where χp is the paramagnetic susceptibility. For any geologically relevant conditions, the induced magnetization is linearly dependent on the applied field. In paramagnetic solids, atomic magnetic moments react independently to applied magnetic fields and to thermal energy. At any temperature above absolute zero, thermal energy vibrates the crystal lattice, causing atomic magnetic moments to oscillate rapidly in random in orientations. In the absence of an applied magnetic field, atomic moments are equally distributed in all directions with a resultant magnetization of zero.\n",
    "\n",
    "To first order, paramagnetic susceptibility χp is positive, larger than diamagnetism and inversely proportional to temperature. This inverse T dependence (see Figure 3.5b) is known as Curie’s law of paramagnetism. The paramagnetic susceptibility of, for example, biotite is 790 x 10−9 m3 kg−1, or about three orders of magnitude larger than quartz (and of the opposite sign!).\n",
    "\n",
    "# Remanent magnetization\n",
    "\n",
    "## Ferromagnetism (sensu lato)\n",
    "\n",
    "![](http://ltauxe.github.io/Essentials-of-Paleomagnetism/WebBook376x.png)\n",
    "\n",
    "*Exchange energy associated with overlapping orbitals. Example of super-exchange between the 3d orbitals of two iron cations through the 2p orbitals of the intervening oxygen anion. The two electrons in the 2p shells are, by necessity antiparallel. These are shared by the 3d shells, hence the two cations have anti-parallel spins.*\n",
    "\n",
    "Some substances give rise to a magnetic field in the absence of an applied field. This magnetization is called remanent or spontaneous magnetization, also loosely known as ferromagnetism (sensu lato). Magnetic remanence is caused by strong interactions between neighboring spins that occur in certain crystals.\n",
    "\n",
    "The so-called exchange energy is minimized when the spins are aligned parallel or anti-parallel depending on the details of the crystal structure. Exchange energy is a consequence of the Pauli exclusion principle (no two electrons can have the same set of quantum numbers). In the transition elements, the 3d orbital is particularly susceptible to exchange interactions because of its shape and the prevalence of unpaired spins, so remanence is characteristic of certain crystals containing transition elements with unfilled 3d orbitals.\n",
    "\n",
    "In oxides, oxygen can form a bridge between neighboring cations which are otherwise too far apart for direct overlap of the 3d orbitals in a phenomenon known as superexchange. In Figure 3.6 the 2p electrons of the oxygen are shared with the neighboring 3d shells of the iron ions. Pauli’s exclusion principle means that the shared electrons must be antiparallel to each of the electrons in the 3d shells. The result is that the two cations are coupled. In the case shown in Figure 3.6 there is an Fe2+ ion coupled antiparallel to an Fe3+ ion. For two ions with the same charge, the coupling will be parallel. Exchange energies are huge, equivalent to the energy associated with the same moment in a field of the order of 1000 T. [The largest field available in the Scripps paleomagnetic laboratory is about 2.5 T, and that only fleetingly.]\n",
    "\n",
    "As temperature increases, crystals expand and exchange becomes weaker. Above a temperature characteristic of each crystal type (known as the Curie temperature Tc), cooperative spin behavior disappears entirely and the material becomes paramagnetic.\n",
    "\n",
    "![](http://ltauxe.github.io/Essentials-of-Paleomagnetism/WebBook377x.png)\n",
    "\n",
    "* Behavior of magnetization versus temperature of a ferromagnetic substance. Below Tc, the magnetization follows the Curie-Weiss law and is a ferromagnetic magnetization. Above Tc the magnetization follows the Langevin function and is an induced magnetization.*\n",
    "\n",
    "While the phenomenon of ferromagnetism results from complicated\n",
    "interactions of neighboring spins, it is useful to think of the\n",
    "ferromagnetic moment as resulting from a quasi-paramagnetic response to\n",
    "a huge internal field.  This imaginary field is termed the Weiss molecular field $H_w$.  In \n",
    "Weiss theory, $H_w$ is proportional to the\n",
    "magnetization of the substance, i.e., \n",
    "\n",
    "$\n",
    "H_w = \\beta M,\n",
    "$\n",
    "\n",
    "where $\\beta$ is the constant of proportionality.\n",
    "The total magnetic field that the substance experiences is:\n",
    "\n",
    "$\n",
    "H_{tot} = H + H_w = H + \\beta M,\n",
    "$\n",
    "\n",
    "where $H$ is the external field.  By analogy to paramagnetism,\n",
    "we can substitute $a=\\mu_om_b(H_{tot})/kT)$ for $H$ in\n",
    "\\index{Langevin!function}\n",
    " Langevin function:\n",
    "\n",
    "$\n",
    "{M  \\over {M_s}} {= \\mathcal{L} \\left({ {\\mu_o m_b(H+\\beta M)}\\over{kT} } \\right)}.\n",
    "\\label{eq:Mweiss}\n",
    "$\n",
    "\n",
    "For temperatures above the Curie temperature $T_c$ (i.e.\n",
    "$T-T_c>0$) there is by definition no internal field, hence  $\\beta M$  is zero.\n",
    "Substituting $N m_b/v$ for $M_s$, and using the low-field approximation\n",
    "for $\\mathcal{L} (a)$, the above equation can \n",
    "be rearranged to get:\n",
    "\n",
    "$\n",
    "{M\\over H} = { {\\mu_o N m_b^2}\\over {v3k(T-T_c)} } \\equiv \\chi_f.\n",
    "\\label{eq:curieweiss}\n",
    "$\n",
    "\n",
    "This equation is known as the Curie-Weiss law and governs\n",
    "ferromagnetic susceptibility above the Curie temperature.\n",
    "\n",
    "![](http://ltauxe.github.io/Essentials-of-Paleomagnetism/WebBook382x.png)\n",
    "\n",
    "We have treated ferromagnetism from a classical point of view and this is strictly incorrect because ferromagnetism results primarily from quantum mechanical phenomena. The primary difference between the classical derivation and the quantum mechanical one lies in the fact that in quantum mechanics, only certain angles of the magnetic moments are allowed, as opposed to all directions in Langevin theory. In the end, the predictions of magnetization as a function of temperature are different in detail. The end product of the quantum mechanical treatment (see Dunlop and Özdemir, 1997) is that the variation of saturation magnetization as a function of temperature can be reasonably well approximated (near the Curie Temperature, Tc) by a normalized power law variation:\n",
    "\n",
    "\\begin{equation}\n",
    "{M_s(T)\\over {M_s(T_o)}} = \\bigl[{  {T_c - T}\\over{T_c-T_o}} \\bigr]^{\\gamma }\n",
    "\\label{eq:MsT}\n",
    "\\end{equation}\n",
    "\n",
    "where γ is 0.5 from simple molecular field theory and To is absolute zero (in kelvin). Dunlop and Özdemir (1997) cite a value of around 0.43 for γ, but the data sets cited by Dunlop and Özdemir (1997; e.g., Figure 3.5 on page 52) are actually best-fit with values for γ of about 0.36 – 0.39 (see Figure 3.8). These curves have been normalized by their inferred curie Temperatures which are around 565∘C (data of B. Moskowitz, cited in Banerjee, 1991).\n",
    "\n",
    "\n",
    "## Ferromagnetism, antiferromagnetism, ferrimagnetism\n",
    "\n",
    "![](http://ltauxe.github.io/Essentials-of-Paleomagnetism/WebBook387x.png)\n",
    "\n",
    "*Types of spin alignment in ferromagnetism (sensu lato): a) ferromagnetism (sensu stricto), b) antiferromagnetism, c) spin-canted antiferromagnetism, d) defect anti-ferromagnetism, e) ferrimagnetism*\n",
    "\n",
    "In ferromagnetism (sensu stricto, Figure 3.9a), the exchange energy is minimized when all the spins are parallel, as occurs in pure iron. When spins are perfectly antiparallel (antiferromagnetism, Figure 3.9b), there is no net magnetic moment, as occurs in ilmenite. Occasionally, the antiferromagnetic spins are not perfectly aligned in an antiparallel orientation, but are canted by a few degrees. This spin-canting (Figure 3.9c) gives rise to a weak net moment, as occurs in hematite, a common magnetic mineral (see Chapter 6). Also, antiferromagnetic materials can have a net moment if spins are not perfectly compensated owing to defects in the crystal structure, as occurs in fine-grained hematite. The uncompensated spins result in a so-called defect moment (Figure 3.9d). We note in passing that the temperature at which spins become disordered in antiferromagnetic substances is termed the Néel temperature. In ferrimagnetism, spins are also aligned antiparallel, but the magnitudes of the moments in each direction are unequal, resulting in a net moment (Figure 3.9e).\n"
   ]
  },
  {
   "cell_type": "markdown",
   "metadata": {},
   "source": [
    "## Chapter 3 Problem 5\n",
    "\n",
    "*Let's work through this problem together*\n",
    "\n",
    "a) Read into a Pandas DataFrame the datafile Chapter_3/BMoskinBan91.txt provided. Make a plot of magnetization versus temperature. What is the Curie temperature of the material?\n",
    "\n",
    "b) Using this Equation 3.11 from the chapter, find the value for γ between 0.35 and 0.43 at intervals of 0.01 that fits the best. Plot the data as in Figure 3.8 in the chapter, i.e. Ms(T)∕Ms(To) against T∕Tc."
   ]
  },
  {
   "cell_type": "code",
   "execution_count": 15,
   "metadata": {},
   "outputs": [],
   "source": [
    "import pandas as pd\n",
    "import matplotlib.pyplot as plt\n",
    "import numpy as np"
   ]
  },
  {
   "cell_type": "code",
   "execution_count": null,
   "metadata": {},
   "outputs": [],
   "source": []
  },
  {
   "cell_type": "markdown",
   "metadata": {},
   "source": [
    "## Chapter 2 Problem 3\n",
    "\n",
    "*Let's work through this problem together*\n",
    "\n",
    "You went to Wyoming (112∘ W and 36∘ N) to sample some Cretaceous rocks. You measured a direction with a declination of 345∘ and an inclination of 47∘.\n",
    "\n",
    "a) What direction would you expect from the present (GAD) field?\n",
    "\n",
    "b) What is the virtual geomagnetic pole position corresponding to the direction you actually measured? [Hint: Use the function pmag.dia_vgp in the PmagPy module or for a challenge, write your own! ]"
   ]
  },
  {
   "cell_type": "code",
   "execution_count": 36,
   "metadata": {},
   "outputs": [],
   "source": [
    "import pmagpy.pmag as pmag\n",
    "import pmagpy.ipmag as ipmag"
   ]
  },
  {
   "cell_type": "markdown",
   "metadata": {},
   "source": [
    "Do the following in code cells below:\n",
    "\n",
    "- Calculate the expected inclination at the latitude of the study site.\n",
    "- Plot up the measured declination/inclination and the expected GAD declination/inclination on an equal area plot."
   ]
  },
  {
   "cell_type": "code",
   "execution_count": null,
   "metadata": {},
   "outputs": [],
   "source": []
  },
  {
   "cell_type": "code",
   "execution_count": null,
   "metadata": {},
   "outputs": [],
   "source": []
  },
  {
   "cell_type": "markdown",
   "metadata": {},
   "source": [
    "Use the function pmag.dia_vgp to calculate the VGP. Remember that you can access the docstring using shift+tab or by typing the function and putting a question mark after it."
   ]
  },
  {
   "cell_type": "code",
   "execution_count": null,
   "metadata": {},
   "outputs": [],
   "source": []
  }
 ],
 "metadata": {
  "kernelspec": {
   "display_name": "Python 3",
   "language": "python",
   "name": "python3"
  },
  "language_info": {
   "codemirror_mode": {
    "name": "ipython",
    "version": 3
   },
   "file_extension": ".py",
   "mimetype": "text/x-python",
   "name": "python",
   "nbconvert_exporter": "python",
   "pygments_lexer": "ipython3",
   "version": "3.7.3"
  }
 },
 "nbformat": 4,
 "nbformat_minor": 4
}
